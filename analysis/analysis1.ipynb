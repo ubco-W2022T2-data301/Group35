{
 "cells": [
  {
   "cell_type": "markdown",
   "metadata": {},
   "source": [
    "# Vanshika"
   ]
  },
  {
   "cell_type": "markdown",
   "metadata": {},
   "source": [
    "\n",
    "***Which sectors or industries performed the best in 2015 to 2019, and which ones underperformed?***\n",
    "\n",
    "*Interest*\n",
    "    \n",
    "I am interested in identifying the sectors or industries that are relatively stable and able to maintain or increase the value of investments, as well as those that are more volatile and therefore harder to predict. This is a crucial exercise for investors, as it can offer valuable insights that can aid in making more informed investment decisions. \n",
    "\n",
    "    While we acknowledge that we do not have the most recent data to make a direct comparison,i am captivated by the prospect of assessing whether the sectors previously identified (or those that we select after undertaking the analysis) have been able to uphold their trends beyond the COVID-19 pandemic(mostly investigate whether certain sectors may exhibit less risk than others?)\n",
    "\n",
    "I have also noticed a **growing public interest in index funds and a shift towards sustainable investing** and i wonder whether these trends have been influenced by the performance of different sectors and if these companies are related to any sustainability practices.\n",
    "\n",
    "*Why is it important?*\n",
    "\n",
    "For instance, if an investor is interested in investing in the technology sector, it would be prudent to analyze the trends in that sector over a few years to gauge its performance and future prospects. Likewise, if an investor is assessing a specific company, having knowledge of its industry or sector's performance can provide essential context for evaluating the company's potential. By evaluating the performance of various industries and sectors over time, investors can pinpoint investment opportunities or risks and make informed decisions about where to allocate their capital.\n",
    "\n"
   ]
  }
 ],
 "metadata": {
  "kernelspec": {
   "display_name": "Python 3 (ipykernel)",
   "language": "python",
   "name": "python3"
  },
  "language_info": {
   "codemirror_mode": {
    "name": "ipython",
    "version": 3
   },
   "file_extension": ".py",
   "mimetype": "text/x-python",
   "name": "python",
   "nbconvert_exporter": "python",
   "pygments_lexer": "ipython3",
   "version": "3.10.8"
  },
  "vscode": {
   "interpreter": {
    "hash": "4e3aa5679ff7260032b85a779bcc7b411f45566576353848c3b140f9f26fd293"
   }
  }
 },
 "nbformat": 4,
 "nbformat_minor": 4
}
