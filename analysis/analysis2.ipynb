{
 "cells": [
  {
   "cell_type": "markdown",
   "metadata": {},
   "source": [
    "# Saketh"
   ]
  },
  {
   "attachments": {},
   "cell_type": "markdown",
   "metadata": {},
   "source": [
    "## Research question/interests\n",
    "\n",
    "Question/Interest: How can the visualisation and analysis of a dataset be used to attain a more refined understanding of stock performance, and what methods can be used to reduce the risk of incurring a loss and maximize the returns and profits while investing in the stock market?\n",
    "\n",
    "Why it is important: Once we know how and where to invest properly through analysis, this can help in saving money and protect money especially during inflation and taxes, for example, seeing a stock performing well cosistently that can \n",
    "incline the investors to invest there. Now another way by doing this to almost never incur a loss is if we split our\n",
    "investments into multiple well doing stocks and sectors so you would not be relying on just one with the whole investment.\n",
    "Lastly we also can be aware of where to invest by analsying a company's financial situation by seeing its income flow, and\n",
    "further more which can help us understand their revenue and profitability.\n"
   ]
  },
  {
   "cell_type": "markdown",
   "metadata": {},
   "source": [
    "## What we are going to do to find the best company to invest in is technically sorting the company based on a specific factor"
   ]
  },
  {
   "cell_type": "markdown",
   "metadata": {},
   "source": [
    "##### To do that we are going to calculate the profit per company and compare that with the other companies, which ever has one of the best profits can easily be declared as the one to go for investing."
   ]
  },
  {
   "cell_type": "code",
   "execution_count": 1,
   "metadata": {},
   "outputs": [
    {
     "name": "stderr",
     "output_type": "stream",
     "text": [
      "C:\\Users\\saket\\AppData\\Local\\Temp\\ipykernel_33664\\443362907.py:15: FutureWarning: The default value of numeric_only in DataFrameGroupBy.mean is deprecated. In a future version, numeric_only will default to False. Either specify numeric_only or select only columns which should be valid for the function.\n",
      "  gg = gg.mean()\n"
     ]
    },
    {
     "data": {
      "text/html": [
       "<div>\n",
       "<style scoped>\n",
       "    .dataframe tbody tr th:only-of-type {\n",
       "        vertical-align: middle;\n",
       "    }\n",
       "\n",
       "    .dataframe tbody tr th {\n",
       "        vertical-align: top;\n",
       "    }\n",
       "\n",
       "    .dataframe thead th {\n",
       "        text-align: right;\n",
       "    }\n",
       "</style>\n",
       "<table border=\"1\" class=\"dataframe\">\n",
       "  <thead>\n",
       "    <tr style=\"text-align: right;\">\n",
       "      <th></th>\n",
       "      <th>Close</th>\n",
       "      <th>Volume</th>\n",
       "      <th>Profit</th>\n",
       "    </tr>\n",
       "    <tr>\n",
       "      <th>Company</th>\n",
       "      <th></th>\n",
       "      <th></th>\n",
       "      <th></th>\n",
       "    </tr>\n",
       "  </thead>\n",
       "  <tbody>\n",
       "    <tr>\n",
       "      <th>AMD</th>\n",
       "      <td>33.189337</td>\n",
       "      <td>5.131807e+07</td>\n",
       "      <td>2.249106e+09</td>\n",
       "    </tr>\n",
       "    <tr>\n",
       "      <th>AT &amp; T</th>\n",
       "      <td>25.124129</td>\n",
       "      <td>4.160198e+07</td>\n",
       "      <td>1.013769e+09</td>\n",
       "    </tr>\n",
       "    <tr>\n",
       "      <th>Activision</th>\n",
       "      <td>51.117224</td>\n",
       "      <td>7.665162e+06</td>\n",
       "      <td>3.815859e+08</td>\n",
       "    </tr>\n",
       "    <tr>\n",
       "      <th>Ali Baba</th>\n",
       "      <td>148.962591</td>\n",
       "      <td>1.868294e+07</td>\n",
       "      <td>2.767608e+09</td>\n",
       "    </tr>\n",
       "    <tr>\n",
       "      <th>Amazon</th>\n",
       "      <td>73.780049</td>\n",
       "      <td>8.025617e+07</td>\n",
       "      <td>6.019430e+09</td>\n",
       "    </tr>\n",
       "    <tr>\n",
       "      <th>Apple</th>\n",
       "      <td>62.416599</td>\n",
       "      <td>1.713540e+08</td>\n",
       "      <td>7.980437e+09</td>\n",
       "    </tr>\n",
       "    <tr>\n",
       "      <th>Bank of America</th>\n",
       "      <td>24.963757</td>\n",
       "      <td>7.619322e+07</td>\n",
       "      <td>1.700118e+09</td>\n",
       "    </tr>\n",
       "    <tr>\n",
       "      <th>Cisco</th>\n",
       "      <td>37.634452</td>\n",
       "      <td>2.549483e+07</td>\n",
       "      <td>9.030763e+08</td>\n",
       "    </tr>\n",
       "    <tr>\n",
       "      <th>CocoCola</th>\n",
       "      <td>47.156438</td>\n",
       "      <td>1.431151e+07</td>\n",
       "      <td>6.757011e+08</td>\n",
       "    </tr>\n",
       "    <tr>\n",
       "      <th>Disney</th>\n",
       "      <td>111.496291</td>\n",
       "      <td>9.422362e+06</td>\n",
       "      <td>1.074879e+09</td>\n",
       "    </tr>\n",
       "    <tr>\n",
       "      <th>EA</th>\n",
       "      <td>89.991739</td>\n",
       "      <td>3.508126e+06</td>\n",
       "      <td>2.895475e+08</td>\n",
       "    </tr>\n",
       "    <tr>\n",
       "      <th>Exxon</th>\n",
       "      <td>78.631362</td>\n",
       "      <td>1.652319e+07</td>\n",
       "      <td>1.219955e+09</td>\n",
       "    </tr>\n",
       "    <tr>\n",
       "      <th>Ford</th>\n",
       "      <td>12.643292</td>\n",
       "      <td>4.828013e+07</td>\n",
       "      <td>6.023240e+08</td>\n",
       "    </tr>\n",
       "    <tr>\n",
       "      <th>Google</th>\n",
       "      <td>59.315665</td>\n",
       "      <td>3.960689e+07</td>\n",
       "      <td>1.993316e+09</td>\n",
       "    </tr>\n",
       "    <tr>\n",
       "      <th>Intel</th>\n",
       "      <td>40.650187</td>\n",
       "      <td>2.984661e+07</td>\n",
       "      <td>1.183471e+09</td>\n",
       "    </tr>\n",
       "    <tr>\n",
       "      <th>JP Morgan</th>\n",
       "      <td>94.615405</td>\n",
       "      <td>1.565919e+07</td>\n",
       "      <td>1.412698e+09</td>\n",
       "    </tr>\n",
       "    <tr>\n",
       "      <th>Match</th>\n",
       "      <td>52.180394</td>\n",
       "      <td>2.789955e+06</td>\n",
       "      <td>1.437984e+08</td>\n",
       "    </tr>\n",
       "    <tr>\n",
       "      <th>McDonalds</th>\n",
       "      <td>161.631740</td>\n",
       "      <td>4.278301e+06</td>\n",
       "      <td>6.282666e+08</td>\n",
       "    </tr>\n",
       "    <tr>\n",
       "      <th>Meta</th>\n",
       "      <td>155.583022</td>\n",
       "      <td>2.975917e+07</td>\n",
       "      <td>3.829379e+09</td>\n",
       "    </tr>\n",
       "    <tr>\n",
       "      <th>Microsoft</th>\n",
       "      <td>121.818209</td>\n",
       "      <td>3.224945e+07</td>\n",
       "      <td>3.692910e+09</td>\n",
       "    </tr>\n",
       "    <tr>\n",
       "      <th>Netflix</th>\n",
       "      <td>239.053170</td>\n",
       "      <td>1.259488e+07</td>\n",
       "      <td>2.048827e+09</td>\n",
       "    </tr>\n",
       "    <tr>\n",
       "      <th>Nvidia</th>\n",
       "      <td>64.634884</td>\n",
       "      <td>4.463162e+07</td>\n",
       "      <td>3.055638e+09</td>\n",
       "    </tr>\n",
       "    <tr>\n",
       "      <th>Paypal</th>\n",
       "      <td>108.418151</td>\n",
       "      <td>9.701338e+06</td>\n",
       "      <td>1.036751e+09</td>\n",
       "    </tr>\n",
       "    <tr>\n",
       "      <th>Pfizer</th>\n",
       "      <td>35.363182</td>\n",
       "      <td>2.889859e+07</td>\n",
       "      <td>1.011561e+09</td>\n",
       "    </tr>\n",
       "    <tr>\n",
       "      <th>Salesforce</th>\n",
       "      <td>125.108446</td>\n",
       "      <td>5.848055e+06</td>\n",
       "      <td>7.710732e+08</td>\n",
       "    </tr>\n",
       "    <tr>\n",
       "      <th>Tesla</th>\n",
       "      <td>73.102271</td>\n",
       "      <td>1.120960e+08</td>\n",
       "      <td>7.455447e+09</td>\n",
       "    </tr>\n",
       "    <tr>\n",
       "      <th>Trade Desk</th>\n",
       "      <td>34.339534</td>\n",
       "      <td>1.063140e+07</td>\n",
       "      <td>3.117499e+08</td>\n",
       "    </tr>\n",
       "    <tr>\n",
       "      <th>Walmart</th>\n",
       "      <td>98.397355</td>\n",
       "      <td>8.164516e+06</td>\n",
       "      <td>7.969665e+08</td>\n",
       "    </tr>\n",
       "    <tr>\n",
       "      <th>Yelp</th>\n",
       "      <td>39.008483</td>\n",
       "      <td>2.119436e+06</td>\n",
       "      <td>9.188627e+07</td>\n",
       "    </tr>\n",
       "    <tr>\n",
       "      <th>Zillow Group</th>\n",
       "      <td>46.440313</td>\n",
       "      <td>1.746387e+06</td>\n",
       "      <td>6.520224e+07</td>\n",
       "    </tr>\n",
       "  </tbody>\n",
       "</table>\n",
       "</div>"
      ],
      "text/plain": [
       "                      Close        Volume        Profit\n",
       "Company                                                \n",
       "AMD               33.189337  5.131807e+07  2.249106e+09\n",
       "AT & T            25.124129  4.160198e+07  1.013769e+09\n",
       "Activision        51.117224  7.665162e+06  3.815859e+08\n",
       "Ali Baba         148.962591  1.868294e+07  2.767608e+09\n",
       "Amazon            73.780049  8.025617e+07  6.019430e+09\n",
       "Apple             62.416599  1.713540e+08  7.980437e+09\n",
       "Bank of America   24.963757  7.619322e+07  1.700118e+09\n",
       "Cisco             37.634452  2.549483e+07  9.030763e+08\n",
       "CocoCola          47.156438  1.431151e+07  6.757011e+08\n",
       "Disney           111.496291  9.422362e+06  1.074879e+09\n",
       "EA                89.991739  3.508126e+06  2.895475e+08\n",
       "Exxon             78.631362  1.652319e+07  1.219955e+09\n",
       "Ford              12.643292  4.828013e+07  6.023240e+08\n",
       "Google            59.315665  3.960689e+07  1.993316e+09\n",
       "Intel             40.650187  2.984661e+07  1.183471e+09\n",
       "JP Morgan         94.615405  1.565919e+07  1.412698e+09\n",
       "Match             52.180394  2.789955e+06  1.437984e+08\n",
       "McDonalds        161.631740  4.278301e+06  6.282666e+08\n",
       "Meta             155.583022  2.975917e+07  3.829379e+09\n",
       "Microsoft        121.818209  3.224945e+07  3.692910e+09\n",
       "Netflix          239.053170  1.259488e+07  2.048827e+09\n",
       "Nvidia            64.634884  4.463162e+07  3.055638e+09\n",
       "Paypal           108.418151  9.701338e+06  1.036751e+09\n",
       "Pfizer            35.363182  2.889859e+07  1.011561e+09\n",
       "Salesforce       125.108446  5.848055e+06  7.710732e+08\n",
       "Tesla             73.102271  1.120960e+08  7.455447e+09\n",
       "Trade Desk        34.339534  1.063140e+07  3.117499e+08\n",
       "Walmart           98.397355  8.164516e+06  7.969665e+08\n",
       "Yelp              39.008483  2.119436e+06  9.188627e+07\n",
       "Zillow Group      46.440313  1.746387e+06  6.520224e+07"
      ]
     },
     "execution_count": 1,
     "metadata": {},
     "output_type": "execute_result"
    }
   ],
   "source": [
    "import pandas as pd\n",
    "df = pd.read_csv('../data/processed/Merged.csv')\n",
    "\n",
    "list = [[\"Apple\"]*2518, [\"AMD\"]*2518, [\"Amazon\"]*2518, [\"Activision\"]*2518, [\"Ali Baba\"]*2030, [\"Bank of America\"]*2518, [\"Salesforce\"]*2518, [\"Cisco\"]*2518, [\"Disney\"]*2518, [\"EA\"]*2518, [\"Ford\"]*2518, [\"Google\"]*2518, [\"Intel\"]*2518, [\"JP Morgan\"]*2518, [\"CocoCola\"]*2518, [\"McDonalds\"]*2518, [\"Meta\"]*2518, [\"Microsoft\"]*2518, [\"Match\"]*2518, [\"Netflix\"]*2518, [\"Nvidia\"]*2518, [\"Pfizer\"]*2518, [\"Paypal\"]*1887, [\"AT & T\"]*2518,[\"Tesla\"]*2518, [\"Trade Desk\"]*1580, [\"Walmart\"]*2518, [\"Exxon\"]*2518, [\"Yelp\"]*2518, [\"Zillow Group\"]*2518]  # List for company column\n",
    "companies = []\n",
    "\n",
    "for i in list:\n",
    "    for r in i:\n",
    "        companies.append(r)\n",
    "\n",
    "df['Company'] = companies     #this makes a new column for the companies so that it would be easier to clean\n",
    "df['Profit'] = df['Close'] * df['Volume'] #this calculates profit per company\n",
    "df = df[['Date', 'Company', 'Close','Volume', 'Profit']]\n",
    "gg = df.groupby('Company') #this groups each company individually\n",
    "gg = gg.mean()\n",
    "gg\n",
    "\n",
    "\n",
    "#UPON cleaning it can be easily said that there are 73482 rows and now 9 comlumns after adding the company and profit columns\n",
    "# DOWN BELOW WE PRINT ALL COMPANIES WITH THEIR PROFITS"
   ]
  },
  {
   "cell_type": "code",
   "execution_count": 2,
   "metadata": {},
   "outputs": [
    {
     "data": {
      "text/plain": [
       "<Axes: xlabel='Company'>"
      ]
     },
     "execution_count": 2,
     "metadata": {},
     "output_type": "execute_result"
    },
    {
     "data": {
      "image/png": "[encoded data removed]",
      "text/plain": [
       "<Figure size 640x480 with 1 Axes>"
      ]
     },
     "metadata": {},
     "output_type": "display_data"
    }
   ],
   "source": [
    "gg.sort_values(by=['Profit'],ascending = False, inplace = True) # This sorts the list of companies based on their profits\n",
    "gg.head(5)   # this step helps us see the top 5 companies with the highest profit\n",
    "gg.plot()\n"
   ]
  },
  {
   "cell_type": "markdown",
   "metadata": {},
   "source": [
    "#### As we can see that Apple, Tesla and Amazon are the companies with the highest profit of all so personally I would invest there"
   ]
  },
  {
   "cell_type": "code",
   "execution_count": 3,
   "metadata": {},
   "outputs": [
    {
     "ename": "ValueError",
     "evalue": "Could not interpret input 'Index'",
     "output_type": "error",
     "traceback": [
      "\u001b[1;31m---------------------------------------------------------------------------\u001b[0m",
      "\u001b[1;31mValueError\u001b[0m                                Traceback (most recent call last)",
      "Cell \u001b[1;32mIn[3], line 7\u001b[0m\n\u001b[0;32m      5\u001b[0m plt\u001b[39m.\u001b[39mxlabel(\u001b[39m'\u001b[39m\u001b[39mCompany\u001b[39m\u001b[39m'\u001b[39m, fontsize \u001b[39m=\u001b[39m \u001b[39m18\u001b[39m)\n\u001b[0;32m      6\u001b[0m plt\u001b[39m.\u001b[39mylabel(\u001b[39m'\u001b[39m\u001b[39mProfit\u001b[39m\u001b[39m'\u001b[39m, fontsize \u001b[39m=\u001b[39m \u001b[39m18\u001b[39m)\n\u001b[1;32m----> 7\u001b[0m sns\u001b[39m.\u001b[39;49mbarplot(x\u001b[39m=\u001b[39;49m \u001b[39m'\u001b[39;49m\u001b[39mIndex\u001b[39;49m\u001b[39m'\u001b[39;49m, y \u001b[39m=\u001b[39;49m \u001b[39m'\u001b[39;49m\u001b[39mProfit\u001b[39;49m\u001b[39m'\u001b[39;49m, hue \u001b[39m=\u001b[39;49m \u001b[39m'\u001b[39;49m\u001b[39mIndex\u001b[39;49m\u001b[39m'\u001b[39;49m, data\u001b[39m=\u001b[39;49mgg)\n",
      "File \u001b[1;32mc:\\Users\\saket\\AppData\\Local\\Programs\\Python\\Python311\\Lib\\site-packages\\seaborn\\categorical.py:2755\u001b[0m, in \u001b[0;36mbarplot\u001b[1;34m(data, x, y, hue, order, hue_order, estimator, errorbar, n_boot, units, seed, orient, color, palette, saturation, width, errcolor, errwidth, capsize, dodge, ci, ax, **kwargs)\u001b[0m\n\u001b[0;32m   2752\u001b[0m \u001b[39mif\u001b[39;00m estimator \u001b[39mis\u001b[39;00m \u001b[39mlen\u001b[39m:\n\u001b[0;32m   2753\u001b[0m     estimator \u001b[39m=\u001b[39m \u001b[39m\"\u001b[39m\u001b[39msize\u001b[39m\u001b[39m\"\u001b[39m\n\u001b[1;32m-> 2755\u001b[0m plotter \u001b[39m=\u001b[39m _BarPlotter(x, y, hue, data, order, hue_order,\n\u001b[0;32m   2756\u001b[0m                       estimator, errorbar, n_boot, units, seed,\n\u001b[0;32m   2757\u001b[0m                       orient, color, palette, saturation,\n\u001b[0;32m   2758\u001b[0m                       width, errcolor, errwidth, capsize, dodge)\n\u001b[0;32m   2760\u001b[0m \u001b[39mif\u001b[39;00m ax \u001b[39mis\u001b[39;00m \u001b[39mNone\u001b[39;00m:\n\u001b[0;32m   2761\u001b[0m     ax \u001b[39m=\u001b[39m plt\u001b[39m.\u001b[39mgca()\n",
      "File \u001b[1;32mc:\\Users\\saket\\AppData\\Local\\Programs\\Python\\Python311\\Lib\\site-packages\\seaborn\\categorical.py:1530\u001b[0m, in \u001b[0;36m_BarPlotter.__init__\u001b[1;34m(self, x, y, hue, data, order, hue_order, estimator, errorbar, n_boot, units, seed, orient, color, palette, saturation, width, errcolor, errwidth, capsize, dodge)\u001b[0m\n\u001b[0;32m   1525\u001b[0m \u001b[39mdef\u001b[39;00m \u001b[39m__init__\u001b[39m(\u001b[39mself\u001b[39m, x, y, hue, data, order, hue_order,\n\u001b[0;32m   1526\u001b[0m              estimator, errorbar, n_boot, units, seed,\n\u001b[0;32m   1527\u001b[0m              orient, color, palette, saturation, width,\n\u001b[0;32m   1528\u001b[0m              errcolor, errwidth, capsize, dodge):\n\u001b[0;32m   1529\u001b[0m \u001b[39m    \u001b[39m\u001b[39m\"\"\"Initialize the plotter.\"\"\"\u001b[39;00m\n\u001b[1;32m-> 1530\u001b[0m     \u001b[39mself\u001b[39;49m\u001b[39m.\u001b[39;49mestablish_variables(x, y, hue, data, orient,\n\u001b[0;32m   1531\u001b[0m                              order, hue_order, units)\n\u001b[0;32m   1532\u001b[0m     \u001b[39mself\u001b[39m\u001b[39m.\u001b[39mestablish_colors(color, palette, saturation)\n\u001b[0;32m   1533\u001b[0m     \u001b[39mself\u001b[39m\u001b[39m.\u001b[39mestimate_statistic(estimator, errorbar, n_boot, seed)\n",
      "File \u001b[1;32mc:\\Users\\saket\\AppData\\Local\\Programs\\Python\\Python311\\Lib\\site-packages\\seaborn\\categorical.py:541\u001b[0m, in \u001b[0;36m_CategoricalPlotter.establish_variables\u001b[1;34m(self, x, y, hue, data, orient, order, hue_order, units)\u001b[0m\n\u001b[0;32m    539\u001b[0m     \u001b[39mif\u001b[39;00m \u001b[39misinstance\u001b[39m(var, \u001b[39mstr\u001b[39m):\n\u001b[0;32m    540\u001b[0m         err \u001b[39m=\u001b[39m \u001b[39mf\u001b[39m\u001b[39m\"\u001b[39m\u001b[39mCould not interpret input \u001b[39m\u001b[39m'\u001b[39m\u001b[39m{\u001b[39;00mvar\u001b[39m}\u001b[39;00m\u001b[39m'\u001b[39m\u001b[39m\"\u001b[39m\n\u001b[1;32m--> 541\u001b[0m         \u001b[39mraise\u001b[39;00m \u001b[39mValueError\u001b[39;00m(err)\n\u001b[0;32m    543\u001b[0m \u001b[39m# Figure out the plotting orientation\u001b[39;00m\n\u001b[0;32m    544\u001b[0m orient \u001b[39m=\u001b[39m infer_orient(\n\u001b[0;32m    545\u001b[0m     x, y, orient, require_numeric\u001b[39m=\u001b[39m\u001b[39mself\u001b[39m\u001b[39m.\u001b[39mrequire_numeric\n\u001b[0;32m    546\u001b[0m )\n",
      "\u001b[1;31mValueError\u001b[0m: Could not interpret input 'Index'"
     ]
    },
    {
     "data": {
      "image/png": "[encoded data removed]",
      "text/plain": [
       "<Figure size 2000x2000 with 1 Axes>"
      ]
     },
     "metadata": {},
     "output_type": "display_data"
    }
   ],
   "source": [
    "import matplotlib.pyplot as plt #this is to visualise the profits in the form of a graph\n",
    "import seaborn as sns\n",
    "gg.sort_values(by='Profit',ascending = False, inplace = True)\n",
    "plt.figure(figsize=(20,20))\n",
    "plt.xlabel('Company', fontsize = 18)\n",
    "plt.ylabel('Profit', fontsize = 18)\n",
    "sns.barplot(x= 'Company', y = 'Profit', hue = 'Index', data=gg)\n",
    "\n",
    "\n",
    "\n"
   ]
  },
  {
   "attachments": {},
   "cell_type": "markdown",
   "metadata": {},
   "source": [
    "### Conclusion\n",
    "So what our main ideology was that we intended to find the best company to invest in. How we figured this out was that\n",
    "we found the company with the highest profit. To find the profit per companies we just multiply the closing value per\n",
    "company with the value of each companies volume and upon finding the profits and sorting them we found out that Apple,Tesla and Amazon have the biggest profits of the 30 companies. This is perfect for people to invest with the least fear of any sort of loss and more chance of profit.\n",
    "\n",
    "Profit = Closing Value per Company * Volume per Company\n",
    "\n",
    "\n"
   ]
  }
 ],
 "metadata": {
  "kernelspec": {
   "display_name": "Python 3 (ipykernel)",
   "language": "python",
   "name": "python3"
  },
  "language_info": {
   "codemirror_mode": {
    "name": "ipython",
    "version": 3
   },
   "file_extension": ".py",
   "mimetype": "text/x-python",
   "name": "python",
   "nbconvert_exporter": "python",
   "pygments_lexer": "ipython3",
   "version": "3.11.2"
  },
  "vscode": {
   "interpreter": {
    "hash": "6773b4cfd51867c23bf57b338111b20f8833119214edace8f00207c37a789176"
   }
  }
 },
 "nbformat": 4,
 "nbformat_minor": 4
}
