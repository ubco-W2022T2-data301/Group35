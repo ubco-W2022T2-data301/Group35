{
 "cells": [
  {
   "attachments": {},
   "cell_type": "markdown",
   "metadata": {},
   "source": [
    "# Saketh"
   ]
  },
  {
   "attachments": {},
   "cell_type": "markdown",
   "metadata": {},
   "source": [
    "## Research question/interests\n",
    "\n",
    "Question/Interest: How does the analysis of the dataset allow us to properly understand and invest in stocks without incurring much loss. \n",
    "\n",
    "Why it is important: Once we know how and where to invest properly through analysis, this can help in saving money and protect money especially during inflation and taxes, for example, seeing a stock performing well cosistently that can \n",
    "incline the investors to invest there. Now another way by doing this to almost never incur a loss is if we split our\n",
    "investments into multiple well doing stocks and sectors so you would not be relying on just one with the whole investment.\n",
    "Lastly we also can be aware of where to invest by analsying a company's financial situation by seeing its income flow, and\n",
    "further more which can help us understand their revenue and profitability.\n"
   ]
  },
  {
   "attachments": {},
   "cell_type": "markdown",
   "metadata": {},
   "source": [
    "## What we are going to do to find the best company to invest in is technically sorting the company based on a specific factor"
   ]
  },
  {
   "attachments": {},
   "cell_type": "markdown",
   "metadata": {},
   "source": [
    "##### To do that we are going to calculate the profit per company and compare that with the other companies, which ever has one of the best profits can easily be declared as the one to go for investing."
   ]
  },
  {
   "cell_type": "code",
   "execution_count": 101,
   "metadata": {},
   "outputs": [
    {
     "name": "stderr",
     "output_type": "stream",
     "text": [
      "C:\\Users\\saket\\AppData\\Local\\Temp\\ipykernel_1508\\511711910.py:15: FutureWarning: The default value of numeric_only in DataFrameGroupBy.mean is deprecated. In a future version, numeric_only will default to False. Either specify numeric_only or select only columns which should be valid for the function.\n",
      "  gg = gg.mean()\n"
     ]
    },
    {
     "data": {
      "text/html": [
       "<div>\n",
       "<style scoped>\n",
       "    .dataframe tbody tr th:only-of-type {\n",
       "        vertical-align: middle;\n",
       "    }\n",
       "\n",
       "    .dataframe tbody tr th {\n",
       "        vertical-align: top;\n",
       "    }\n",
       "\n",
       "    .dataframe thead th {\n",
       "        text-align: right;\n",
       "    }\n",
       "</style>\n",
       "<table border=\"1\" class=\"dataframe\">\n",
       "  <thead>\n",
       "    <tr style=\"text-align: right;\">\n",
       "      <th></th>\n",
       "      <th>Close</th>\n",
       "      <th>Volume</th>\n",
       "      <th>Profit</th>\n",
       "    </tr>\n",
       "    <tr>\n",
       "      <th>Company</th>\n",
       "      <th></th>\n",
       "      <th></th>\n",
       "      <th></th>\n",
       "    </tr>\n",
       "  </thead>\n",
       "  <tbody>\n",
       "    <tr>\n",
       "      <th>AMD</th>\n",
       "      <td>33.189337</td>\n",
       "      <td>5.131807e+07</td>\n",
       "      <td>2.249106e+09</td>\n",
       "    </tr>\n",
       "    <tr>\n",
       "      <th>AT &amp; T</th>\n",
       "      <td>25.124129</td>\n",
       "      <td>4.160198e+07</td>\n",
       "      <td>1.013769e+09</td>\n",
       "    </tr>\n",
       "    <tr>\n",
       "      <th>Activision</th>\n",
       "      <td>51.117224</td>\n",
       "      <td>7.665162e+06</td>\n",
       "      <td>3.815859e+08</td>\n",
       "    </tr>\n",
       "    <tr>\n",
       "      <th>Ali Baba</th>\n",
       "      <td>148.962591</td>\n",
       "      <td>1.868294e+07</td>\n",
       "      <td>2.767608e+09</td>\n",
       "    </tr>\n",
       "    <tr>\n",
       "      <th>Amazon</th>\n",
       "      <td>73.780049</td>\n",
       "      <td>8.025617e+07</td>\n",
       "      <td>6.019430e+09</td>\n",
       "    </tr>\n",
       "  </tbody>\n",
       "</table>\n",
       "</div>"
      ],
      "text/plain": [
       "                 Close        Volume        Profit\n",
       "Company                                           \n",
       "AMD          33.189337  5.131807e+07  2.249106e+09\n",
       "AT & T       25.124129  4.160198e+07  1.013769e+09\n",
       "Activision   51.117224  7.665162e+06  3.815859e+08\n",
       "Ali Baba    148.962591  1.868294e+07  2.767608e+09\n",
       "Amazon       73.780049  8.025617e+07  6.019430e+09"
      ]
     },
     "execution_count": 101,
     "metadata": {},
     "output_type": "execute_result"
    }
   ],
   "source": [
    "import pandas as pd\n",
    "df = pd.read_csv('../data/processed/Merged.csv')\n",
    "\n",
    "list = [[\"Apple\"]*2518, [\"AMD\"]*2518, [\"Amazon\"]*2518, [\"Activision\"]*2518, [\"Ali Baba\"]*2030, [\"Bank of America\"]*2518, [\"Salesforce\"]*2518, [\"Cisco\"]*2518, [\"Disney\"]*2518, [\"EA\"]*2518, [\"Ford\"]*2518, [\"Google\"]*2518, [\"Intel\"]*2518, [\"JP Morgan\"]*2518, [\"CocoCola\"]*2518, [\"McDonalds\"]*2518, [\"Meta\"]*2518, [\"Microsoft\"]*2518, [\"Match\"]*2518, [\"Netflix\"]*2518, [\"Nvidia\"]*2518, [\"Pfizer\"]*2518, [\"Paypal\"]*1887, [\"AT & T\"]*2518,[\"Tesla\"]*2518, [\"Trade Desk\"]*1580, [\"Walmart\"]*2518, [\"Exxon\"]*2518, [\"Yelp\"]*2518, [\"Zillow Group\"]*2518]  # List for company column\n",
    "companies = []\n",
    "\n",
    "for i in list:\n",
    "    for r in i:\n",
    "        companies.append(r)\n",
    "\n",
    "df['Company'] = companies     #this makes a new column for the companies so that it would be easier to clean\n",
    "df['Profit'] = df['Close'] * df['Volume'] #this calculates profit per company\n",
    "df = df[['Company', 'Date', 'Close','Volume', 'Profit']]\n",
    "gg = df.groupby('Company') #this groups each company individually\n",
    "gg = gg.mean()\n",
    "gg.head()\n",
    "\n",
    "\n",
    "#UPON cleaning it can be easily said that there are 73482 rows and now 9 comlumns after adding the company and profit columns"
   ]
  },
  {
   "cell_type": "code",
   "execution_count": 102,
   "metadata": {},
   "outputs": [
    {
     "data": {
      "text/html": [
       "<div>\n",
       "<style scoped>\n",
       "    .dataframe tbody tr th:only-of-type {\n",
       "        vertical-align: middle;\n",
       "    }\n",
       "\n",
       "    .dataframe tbody tr th {\n",
       "        vertical-align: top;\n",
       "    }\n",
       "\n",
       "    .dataframe thead th {\n",
       "        text-align: right;\n",
       "    }\n",
       "</style>\n",
       "<table border=\"1\" class=\"dataframe\">\n",
       "  <thead>\n",
       "    <tr style=\"text-align: right;\">\n",
       "      <th></th>\n",
       "      <th>Company</th>\n",
       "      <th>Date</th>\n",
       "      <th>Close</th>\n",
       "      <th>Volume</th>\n",
       "      <th>Profit</th>\n",
       "    </tr>\n",
       "  </thead>\n",
       "  <tbody>\n",
       "    <tr>\n",
       "      <th>61319</th>\n",
       "      <td>Tesla</td>\n",
       "      <td>12/18/2020</td>\n",
       "      <td>231.666672</td>\n",
       "      <td>666378600</td>\n",
       "      <td>1.543777e+11</td>\n",
       "    </tr>\n",
       "    <tr>\n",
       "      <th>61537</th>\n",
       "      <td>Tesla</td>\n",
       "      <td>11/1/2021</td>\n",
       "      <td>402.863342</td>\n",
       "      <td>168146100</td>\n",
       "      <td>6.773990e+10</td>\n",
       "    </tr>\n",
       "    <tr>\n",
       "      <th>61332</th>\n",
       "      <td>Tesla</td>\n",
       "      <td>1/8/2021</td>\n",
       "      <td>293.339996</td>\n",
       "      <td>225166500</td>\n",
       "      <td>6.605034e+10</td>\n",
       "    </tr>\n",
       "    <tr>\n",
       "      <th>61532</th>\n",
       "      <td>Tesla</td>\n",
       "      <td>10/25/2021</td>\n",
       "      <td>341.619995</td>\n",
       "      <td>188556300</td>\n",
       "      <td>6.441460e+10</td>\n",
       "    </tr>\n",
       "    <tr>\n",
       "      <th>61533</th>\n",
       "      <td>Tesla</td>\n",
       "      <td>10/26/2021</td>\n",
       "      <td>339.476654</td>\n",
       "      <td>187245000</td>\n",
       "      <td>6.356531e+10</td>\n",
       "    </tr>\n",
       "  </tbody>\n",
       "</table>\n",
       "</div>"
      ],
      "text/plain": [
       "      Company        Date       Close     Volume        Profit\n",
       "61319   Tesla  12/18/2020  231.666672  666378600  1.543777e+11\n",
       "61537   Tesla   11/1/2021  402.863342  168146100  6.773990e+10\n",
       "61332   Tesla    1/8/2021  293.339996  225166500  6.605034e+10\n",
       "61532   Tesla  10/25/2021  341.619995  188556300  6.441460e+10\n",
       "61533   Tesla  10/26/2021  339.476654  187245000  6.356531e+10"
      ]
     },
     "execution_count": 102,
     "metadata": {},
     "output_type": "execute_result"
    }
   ],
   "source": [
    "hprofit = df.sort_values(by=['Profit'],ascending = False) # This sorts the list of companies based on their profits\n",
    "hprofit.head(5)   # this step helps us see the top 5 companies with the highest profit\n"
   ]
  },
  {
   "attachments": {},
   "cell_type": "markdown",
   "metadata": {},
   "source": [
    "## As we can see that Tesla is the company with the highest profit of all so personally I would invest there"
   ]
  },
  {
   "cell_type": "code",
   "execution_count": 104,
   "metadata": {},
   "outputs": [
    {
     "ename": "ValueError",
     "evalue": "Could not interpret input 'Company'",
     "output_type": "error",
     "traceback": [
      "\u001b[1;31m---------------------------------------------------------------------------\u001b[0m",
      "\u001b[1;31mValueError\u001b[0m                                Traceback (most recent call last)",
      "Cell \u001b[1;32mIn[104], line 3\u001b[0m\n\u001b[0;32m      1\u001b[0m \u001b[39mimport\u001b[39;00m \u001b[39mmatplotlib\u001b[39;00m\u001b[39m.\u001b[39;00m\u001b[39mpyplot\u001b[39;00m \u001b[39mas\u001b[39;00m \u001b[39mplt\u001b[39;00m\n\u001b[0;32m      2\u001b[0m \u001b[39mimport\u001b[39;00m \u001b[39mseaborn\u001b[39;00m \u001b[39mas\u001b[39;00m \u001b[39msns\u001b[39;00m\n\u001b[1;32m----> 3\u001b[0m sns\u001b[39m.\u001b[39;49mbarplot(x\u001b[39m=\u001b[39;49m \u001b[39m'\u001b[39;49m\u001b[39mCompany\u001b[39;49m\u001b[39m'\u001b[39;49m, y \u001b[39m=\u001b[39;49m \u001b[39m'\u001b[39;49m\u001b[39mProfit\u001b[39;49m\u001b[39m'\u001b[39;49m, data\u001b[39m=\u001b[39;49mgg)\n",
      "File \u001b[1;32mc:\\Users\\saket\\AppData\\Local\\Programs\\Python\\Python311\\Lib\\site-packages\\seaborn\\categorical.py:2755\u001b[0m, in \u001b[0;36mbarplot\u001b[1;34m(data, x, y, hue, order, hue_order, estimator, errorbar, n_boot, units, seed, orient, color, palette, saturation, width, errcolor, errwidth, capsize, dodge, ci, ax, **kwargs)\u001b[0m\n\u001b[0;32m   2752\u001b[0m \u001b[39mif\u001b[39;00m estimator \u001b[39mis\u001b[39;00m \u001b[39mlen\u001b[39m:\n\u001b[0;32m   2753\u001b[0m     estimator \u001b[39m=\u001b[39m \u001b[39m\"\u001b[39m\u001b[39msize\u001b[39m\u001b[39m\"\u001b[39m\n\u001b[1;32m-> 2755\u001b[0m plotter \u001b[39m=\u001b[39m _BarPlotter(x, y, hue, data, order, hue_order,\n\u001b[0;32m   2756\u001b[0m                       estimator, errorbar, n_boot, units, seed,\n\u001b[0;32m   2757\u001b[0m                       orient, color, palette, saturation,\n\u001b[0;32m   2758\u001b[0m                       width, errcolor, errwidth, capsize, dodge)\n\u001b[0;32m   2760\u001b[0m \u001b[39mif\u001b[39;00m ax \u001b[39mis\u001b[39;00m \u001b[39mNone\u001b[39;00m:\n\u001b[0;32m   2761\u001b[0m     ax \u001b[39m=\u001b[39m plt\u001b[39m.\u001b[39mgca()\n",
      "File \u001b[1;32mc:\\Users\\saket\\AppData\\Local\\Programs\\Python\\Python311\\Lib\\site-packages\\seaborn\\categorical.py:1530\u001b[0m, in \u001b[0;36m_BarPlotter.__init__\u001b[1;34m(self, x, y, hue, data, order, hue_order, estimator, errorbar, n_boot, units, seed, orient, color, palette, saturation, width, errcolor, errwidth, capsize, dodge)\u001b[0m\n\u001b[0;32m   1525\u001b[0m \u001b[39mdef\u001b[39;00m \u001b[39m__init__\u001b[39m(\u001b[39mself\u001b[39m, x, y, hue, data, order, hue_order,\n\u001b[0;32m   1526\u001b[0m              estimator, errorbar, n_boot, units, seed,\n\u001b[0;32m   1527\u001b[0m              orient, color, palette, saturation, width,\n\u001b[0;32m   1528\u001b[0m              errcolor, errwidth, capsize, dodge):\n\u001b[0;32m   1529\u001b[0m \u001b[39m    \u001b[39m\u001b[39m\"\"\"Initialize the plotter.\"\"\"\u001b[39;00m\n\u001b[1;32m-> 1530\u001b[0m     \u001b[39mself\u001b[39;49m\u001b[39m.\u001b[39;49mestablish_variables(x, y, hue, data, orient,\n\u001b[0;32m   1531\u001b[0m                              order, hue_order, units)\n\u001b[0;32m   1532\u001b[0m     \u001b[39mself\u001b[39m\u001b[39m.\u001b[39mestablish_colors(color, palette, saturation)\n\u001b[0;32m   1533\u001b[0m     \u001b[39mself\u001b[39m\u001b[39m.\u001b[39mestimate_statistic(estimator, errorbar, n_boot, seed)\n",
      "File \u001b[1;32mc:\\Users\\saket\\AppData\\Local\\Programs\\Python\\Python311\\Lib\\site-packages\\seaborn\\categorical.py:541\u001b[0m, in \u001b[0;36m_CategoricalPlotter.establish_variables\u001b[1;34m(self, x, y, hue, data, orient, order, hue_order, units)\u001b[0m\n\u001b[0;32m    539\u001b[0m     \u001b[39mif\u001b[39;00m \u001b[39misinstance\u001b[39m(var, \u001b[39mstr\u001b[39m):\n\u001b[0;32m    540\u001b[0m         err \u001b[39m=\u001b[39m \u001b[39mf\u001b[39m\u001b[39m\"\u001b[39m\u001b[39mCould not interpret input \u001b[39m\u001b[39m'\u001b[39m\u001b[39m{\u001b[39;00mvar\u001b[39m}\u001b[39;00m\u001b[39m'\u001b[39m\u001b[39m\"\u001b[39m\n\u001b[1;32m--> 541\u001b[0m         \u001b[39mraise\u001b[39;00m \u001b[39mValueError\u001b[39;00m(err)\n\u001b[0;32m    543\u001b[0m \u001b[39m# Figure out the plotting orientation\u001b[39;00m\n\u001b[0;32m    544\u001b[0m orient \u001b[39m=\u001b[39m infer_orient(\n\u001b[0;32m    545\u001b[0m     x, y, orient, require_numeric\u001b[39m=\u001b[39m\u001b[39mself\u001b[39m\u001b[39m.\u001b[39mrequire_numeric\n\u001b[0;32m    546\u001b[0m )\n",
      "\u001b[1;31mValueError\u001b[0m: Could not interpret input 'Company'"
     ]
    }
   ],
   "source": [
    "import matplotlib.pyplot as plt #this is to visualise the profits in the form of a graph\n",
    "import seaborn as sns\n",
    "sns.barplot(x= 'Company', y = 'Profit', hue = 'Company', data=gg)\n",
    "\n"
   ]
  }
 ],
 "metadata": {
  "kernelspec": {
   "display_name": "Python 3",
   "language": "python",
   "name": "python3"
  },
  "language_info": {
   "codemirror_mode": {
    "name": "ipython",
    "version": 3
   },
   "file_extension": ".py",
   "mimetype": "text/x-python",
   "name": "python",
   "nbconvert_exporter": "python",
   "pygments_lexer": "ipython3",
   "version": "3.11.2"
  },
  "orig_nbformat": 4,
  "vscode": {
   "interpreter": {
    "hash": "6773b4cfd51867c23bf57b338111b20f8833119214edace8f00207c37a789176"
   }
  }
 },
 "nbformat": 4,
 "nbformat_minor": 2
}
