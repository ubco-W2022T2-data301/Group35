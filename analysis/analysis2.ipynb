{
 "cells": [
  {
   "attachments": {},
   "cell_type": "markdown",
   "metadata": {},
   "source": [
    "# Saketh"
   ]
  },
  {
   "attachments": {},
   "cell_type": "markdown",
   "metadata": {},
   "source": [
    "## Research question/interests\n",
    "\n",
    "Question/Interest: How does the analysis of the dataset allow us to properly understand and invest in stocks without incurring much loss. \n",
    "\n",
    "Why it is important: Once we know how and where to invest properly through anyalysis, this can help in saving money and protect money especially during inflation and taxes, for example, seeing a stock performing well cosistently that can \n",
    "incline the investors to invest there. Now another way by doing this to almost never incur a loss is if we split our\n",
    "investments into multiple well doing stocks and sectors so you would not be relying on just one with the whole investment.\n",
    "Lastly we also can be aware of where to invest by analsying a company's financial situation by seeing its income flow, and\n",
    "further more which can help us understand their revenue and profitability.\n"
   ]
  }
 ],
 "metadata": {
  "language_info": {
   "name": "plaintext"
  },
  "orig_nbformat": 4
 },
 "nbformat": 4,
 "nbformat_minor": 2
}
