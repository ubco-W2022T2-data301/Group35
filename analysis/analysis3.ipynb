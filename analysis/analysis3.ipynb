{
 "cells": [
  {
   "attachments": {},
   "cell_type": "markdown",
   "metadata": {},
   "source": [
    "# Shakthi"
   ]
  },
  {
   "attachments": {},
   "cell_type": "markdown",
   "metadata": {},
   "source": [
    "## Research question/interests\n",
    "\n",
    "**<ins>Question:</ins> ** Is there a similarity between the fluctuation of stock prices of the top 30 companies in the US?\n",
    "\n",
    "This question is important as it will make it clearer for us if the changes in stock prices in companies was because of a major event that affected the economic status of multiple companies, or was just a random fluctuation for that one company. This distinction is important in understanding the stock market because we get to know how individual companies are affected by the same event, and how the market prices change with respect to that event. And in addition, we also get the usual data of random fluctuations in stock price."
   ]
  }
 ],
 "metadata": {
  "language_info": {
   "name": "plaintext"
  },
  "orig_nbformat": 4
 },
 "nbformat": 4,
 "nbformat_minor": 2
}
