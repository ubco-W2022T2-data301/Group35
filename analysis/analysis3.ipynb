{
 "cells": [
  {
   "attachments": {},
   "cell_type": "markdown",
   "metadata": {},
   "source": [
    "# Shakthi\n",
    "## Research question/interests\n",
    "\n",
    "### **<ins>Question:</ins>** **Is there a similarity between the fluctuation of stock prices of the top 30 companies in the US?**\n",
    "\n",
    "This question is important as it will make it clearer for us if the changes in stock prices in companies was because of a major event that affected the economic status of multiple companies, or was just a random fluctuation for that one company. The stock prices of different companies may fluctuate differently based on a wide range of factors, such as their individual financial performance, market trends, industry trends, and global economic conditions. \n",
    "\n",
    "\n",
    "\n",
    "A global recession will affect almost every single share in the stock market and will be valuable for future analysis. We can make out if a recession has happened by analyzing the dataset to see if at any point there was a common decline in prices for multiple companies. \n",
    "\n",
    "\n",
    "\n",
    "Distinction is important in understanding the stock market because we get to know how individual companies are affected by the same event, and how the market prices change with respect to that event. Hence, pattern analysis in the dataset is important to recognize potential causes of price jumps and drops.\n"
   ]
  }
 ],
 "metadata": {
  "kernelspec": {
   "display_name": "Python 3",
   "language": "python",
   "name": "python3"
  },
  "language_info": {
   "codemirror_mode": {
    "name": "ipython",
    "version": 3
   },
   "file_extension": ".py",
   "mimetype": "text/x-python",
   "name": "python",
   "nbconvert_exporter": "python",
   "pygments_lexer": "ipython3",
   "version": "3.10.1"
  },
  "vscode": {
   "interpreter": {
    "hash": "c6a7a048e9598677478fb48b01f313b1a5891b18532211819de3c79b37facb63"
   }
  }
 },
 "nbformat": 4,
 "nbformat_minor": 4
}
