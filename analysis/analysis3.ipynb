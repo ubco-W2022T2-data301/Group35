{
 "cells": [
  {
   "cell_type": "markdown",
   "metadata": {},
   "source": [
    "# Shakthi"
   ]
  },
  {
   "cell_type": "markdown",
   "metadata": {},
   "source": [
    "## Research question/interests\n",
    "\n",
    "**<ins>Question:</ins> ** Is there a similarity between the fluctuation of stock prices of the top 30 companies in the US?\n",
    "\n",
    "This question is important as it will make it clearer if there changes in stock prices in companies was because of a major event that affected multiple companies, or was just a random fluctuation for that one company. This distinction is important in understanding the stock market because we get to know how individual companies are affected by the same event, and how the market prices change with respect to that event."
   ]
  }
 ],
 "metadata": {
  "kernelspec": {
   "display_name": "Python 3 (ipykernel)",
   "language": "python",
   "name": "python3"
  },
  "language_info": {
   "codemirror_mode": {
    "name": "ipython",
    "version": 3
   },
   "file_extension": ".py",
   "mimetype": "text/x-python",
   "name": "python",
   "nbconvert_exporter": "python",
   "pygments_lexer": "ipython3",
   "version": "3.10.8"
  }
 },
 "nbformat": 4,
 "nbformat_minor": 4
}
