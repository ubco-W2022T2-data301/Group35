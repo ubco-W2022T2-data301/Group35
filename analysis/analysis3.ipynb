{
 "cells": [
  {
   "attachments": {},
   "cell_type": "markdown",
   "metadata": {},
   "source": [
    "# Shakthi"
   ]
  },
  {
   "attachments": {},
   "cell_type": "markdown",
   "metadata": {},
   "source": [
    "## Research question/interests\n",
    "\n",
    "**<ins>Question:</ins> ** Is there a similarity between the fluctuation of stock prices of the top 50 companies in the US?\n",
    "\n",
    "This question is important as it will make it clearer if there changes in stock prices in companies was because of a major event that affected multiple companies, or was just a random fluctuation for that one company. This distinction is important in understanding the stock market because we get to know how individual companies are affected by the same event, and how the market prices change with respect to that event."
   ]
  }
 ],
 "metadata": {
  "language_info": {
   "name": "plaintext"
  },
  "orig_nbformat": 4
 },
 "nbformat": 4,
 "nbformat_minor": 2
}
